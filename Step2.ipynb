{
  "cells": [
    {
      "cell_type": "code",
      "execution_count": 7,
      "id": "b9d76316-ab0d-44dd-870b-eb0c9b928d7f",
      "metadata": {
        "trusted": true
      },
      "outputs": [],
      "source": [
        "#File description: Defines a CNN model (ObjectDetectionNetwork) for bounding box regression\n",
        "import torch\n",
        "from torch import nn"
      ]
    },
    {
      "cell_type": "code",
      "execution_count": null,
      "id": "7e98fbe0-0143-493e-af53-c00ab3994a13",
      "metadata": {
        "trusted": true
      },
      "outputs": [],
      "source": [
        "class ObjectDetectionNetwork(nn.Module):\n",
        "    def __init__(self, num_classes=10):\n",
        "        super().__init__()\n",
        "\n",
        "        # Convolutional layers for feature extraction\n",
        "        self.conv_stack = nn.Sequential(\n",
        "            nn.Conv2d(3, 32, kernel_size=7, padding=1),\n",
        "            nn.BatchNorm2d(32), # Batch normalization added\n",
        "            nn.ReLU(),\n",
        "            nn.MaxPool2d(kernel_size=5, stride=2), # downsample\n",
        "            nn.Conv2d(32, 64, kernel_size=4, padding=1),\n",
        "            nn.BatchNorm2d(64),\n",
        "            nn.ReLU(),\n",
        "            nn.MaxPool2d(kernel_size=3, stride=2),\n",
        "            nn.Conv2d(64, 128, kernel_size=3, padding=1),\n",
        "            nn.BatchNorm2d(128),\n",
        "            nn.ReLU(),\n",
        "            nn.MaxPool2d(kernel_size=2, stride=2)\n",
        "        )\n",
        "\n",
        "        # Detection head for classification\n",
        "        self.cls_head = nn.Sequential(\n",
        "            nn.Conv2d(128, 64, kernel_size=3, padding=1),\n",
        "            nn.BatchNorm2d(64),\n",
        "            nn.ReLU(),\n",
        "            nn.Conv2d(64, num_classes, kernel_size=1)\n",
        "        )\n",
        "\n",
        "        # Detection head for bounding box regression\n",
        "        self.box_head = nn.Sequential(\n",
        "            nn.Conv2d(128, 64, kernel_size=7, padding=1),\n",
        "            nn.BatchNorm2d(64),\n",
        "            nn.ReLU(),\n",
        "            nn.Conv2d(64, 4, kernel_size=5)\n",
        "        )\n",
        "\n",
        "    def forward(self, x):\n",
        "        x = self.conv_stack(x)\n",
        "        class_logits = self.cls_head(x)\n",
        "        box_logits = self.box_head(x)\n",
        "        box_preds = self.box_head(x) # format: [x_center, y_center, width, height]\n",
        "        return class_logits, box_logits, box_preds\n"
      ]
    },
    {
      "cell_type": "code",
      "execution_count": null,
      "id": "0fe245c3-a1a8-4f2e-99df-f576bf77fba0",
      "metadata": {
        "trusted": true
      },
      "outputs": [
        {
          "name": "stdout",
          "output_type": "stream",
          "text": [
            "cpu\n",
            "YOLOMiniNet(\n",
            "  (features): Sequential(\n",
            "    (0): Conv2d(3, 32, kernel_size=(3, 3), stride=(1, 1), padding=(1, 1))\n",
            "    (1): ReLU()\n",
            "    (2): MaxPool2d(kernel_size=2, stride=2, padding=0, dilation=1, ceil_mode=False)\n",
            "    (3): Conv2d(32, 64, kernel_size=(3, 3), stride=(1, 1), padding=(1, 1))\n",
            "    (4): ReLU()\n",
            "    (5): MaxPool2d(kernel_size=2, stride=2, padding=0, dilation=1, ceil_mode=False)\n",
            "    (6): Conv2d(64, 128, kernel_size=(3, 3), stride=(1, 1), padding=(1, 1))\n",
            "    (7): ReLU()\n",
            "    (8): MaxPool2d(kernel_size=2, stride=2, padding=0, dilation=1, ceil_mode=False)\n",
            "    (9): Conv2d(128, 256, kernel_size=(3, 3), stride=(1, 1), padding=(1, 1))\n",
            "    (10): ReLU()\n",
            "    (11): MaxPool2d(kernel_size=2, stride=2, padding=0, dilation=1, ceil_mode=False)\n",
            "  )\n",
            "  (head): Sequential(\n",
            "    (0): Flatten(start_dim=1, end_dim=-1)\n",
            "    (1): Linear(in_features=0, out_features=1024, bias=True)\n",
            "    (2): ReLU()\n",
            "    (3): Linear(in_features=1024, out_features=735, bias=True)\n",
            "  )\n",
            ")\n"
          ]
        }
      ],
      "source": [
        "# Define device and initialize model\n",
        "device = torch.device(\"cuda\" if torch.cuda.is_available() else \"cpu\")\n",
        "model = ObjectDetectionNetwork(num_classes=10).to(device)\n",
        "print(device)\n",
        "print(model)"
      ]
    },
    {
      "cell_type": "code",
      "execution_count": null,
      "id": "764f9a76-f32d-4930-a663-05a82e84b4ff",
      "metadata": {
        "trusted": true
      },
      "outputs": [],
      "source": []
    }
  ],
  "metadata": {
    "kernelspec": {
      "display_name": "base",
      "language": "python",
      "name": "python3"
    },
    "language_info": {
      "codemirror_mode": {
        "name": "ipython",
        "version": 3
      },
      "file_extension": ".py",
      "mimetype": "text/x-python",
      "name": "python",
      "nbconvert_exporter": "python",
      "pygments_lexer": "ipython3",
      "version": "3.12.2"
    }
  },
  "nbformat": 4,
  "nbformat_minor": 5
}
