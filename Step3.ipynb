{
  "cells": [
    {
      "cell_type": "code",
      "execution_count": 64,
      "id": "230b30ea-eac5-4ef8-a49c-3404bff2fb3e",
      "metadata": {
        "trusted": true
      },
      "outputs": [],
      "source": [
        "# File description: Trains the model\n",
        "import torch\n",
        "from torch import nn, optim\n",
        "from step1 import train_dataloader, test_dataloader\n",
        "from step2 import ObjectDetectionNetwork\n",
        "from datetime import datetime"
      ]
    },
    {
      "cell_type": "code",
      "execution_count": 65,
      "id": "a1cbdfcf-c859-4f65-9cb2-f7cfbdc69c38",
      "metadata": {
        "trusted": true
      },
      "outputs": [],
      "source": [
        "# Device setup\n",
        "device = torch.device(\"cuda\" if torch.cuda.is_available() else \"cpu\")"
      ]
    },
    {
      "cell_type": "code",
      "execution_count": 66,
      "id": "c034d8c6-bcbb-46c7-a0e9-b87d354bc49e",
      "metadata": {
        "trusted": true
      },
      "outputs": [],
      "source": [
        "# Label mapping (BDD100K's 10 classes)\n",
        "category_map = {\n",
        "    'person': 0, 'rider': 1, 'car': 2, 'truck': 3, 'bus': 4,\n",
        "    'train': 5, 'motorcycle': 6, 'bicycle': 7, 'traffic light': 8, 'traffic sign': 9\n",
        "}"
      ]
    },
    {
      "cell_type": "code",
      "execution_count": 67,
      "id": "9bde0717-1c92-4dbc-aea2-4d56d55d84a1",
      "metadata": {
        "trusted": true
      },
      "outputs": [],
      "source": [
        "# Model setup\n",
        "model = ObjectDetectionNetwork(num_classes=10).to(device)\n",
        "criterion_class = nn.CrossEntropyLoss()\n",
        "criterion_box = nn.SmoothL1Loss()\n",
        "optimizer = optim.Adam(model.parameters(), lr=0.001)"
      ]
    },
    {
      "cell_type": "code",
      "execution_count": 68,
      "id": "4fb12d7e-e77d-45c6-ada7-3d7507204b8e",
      "metadata": {
        "trusted": true
      },
      "outputs": [],
      "source": [
        "# Logging\n",
        "log_file = open(\"step3_10epoch.txt\", \"w\")\n",
        "start_time = datetime.now()"
      ]
    },
    {
      "cell_type": "code",
      "execution_count": 69,
      "id": "df6a619f-7ff0-4384-8122-c6b81cf64f4c",
      "metadata": {
        "trusted": true
      },
      "outputs": [],
      "source": [
        "def log(msg):\n",
        "    print(msg)\n",
        "    log_file.write(msg + \"\\n\")"
      ]
    },
    {
      "cell_type": "code",
      "execution_count": 70,
      "id": "7c30e48e-07f7-4282-894f-2ed250cff927",
      "metadata": {
        "trusted": true
      },
      "outputs": [],
      "source": [
        "def assign_targets_to_grid(targets, grid_size=32, image_size=256):\n",
        "    \"\"\"Assign ground truth boxes to grid cells based on center point.\"\"\"\n",
        "    batch_size = len(targets)\n",
        "    grid = [{} for _ in range(batch_size)]\n",
        "    cell_size = image_size / grid_size  # 256 / 32 = 8 pixels per cell\n",
        "\n",
        "    for b in range(batch_size):\n",
        "        for box, label in zip(targets[b]['boxes'], targets[b]['labels']):\n",
        "            # Convert box to center_x, center_y, width, height\n",
        "            x1, y1, x2, y2 = box\n",
        "            center_x = (x1 + x2) / 2\n",
        "            center_y = (y1 + y2) / 2\n",
        "            width = x2 - x1\n",
        "            height = y2 - y1\n",
        "\n",
        "            # Find grid cell\n",
        "            grid_x = int(center_x / cell_size)\n",
        "            grid_y = int(center_y / cell_size)\n",
        "\n",
        "            # Clamp to grid bounds\n",
        "            grid_x = max(0, min(grid_x, grid_size - 1))\n",
        "            grid_y = max(0, min(grid_y, grid_size - 1))\n",
        "\n",
        "            # Assign first object per cell (simplified approach)\n",
        "            if (grid_y, grid_x) not in grid[b]:\n",
        "                grid[b][(grid_y, grid_x)] = {\n",
        "                    'label': category_map.get(label, 9),  # Default to last class if unknown\n",
        "                    'box': torch.tensor([center_x, center_y, width, height], dtype=torch.float32)\n",
        "                }\n",
        "\n",
        "    return grid"
      ]
    },
    {
      "cell_type": "code",
      "execution_count": 71,
      "id": "aa24a1ff-d8be-403c-8d65-58973a1bfcbe",
      "metadata": {
        "trusted": true
      },
      "outputs": [],
      "source": [
        "def train_eval(dataloader, model, criterion_class, criterion_box, optimizer=None):\n",
        "    model.train() if optimizer else model.eval()\n",
        "    total_class_loss = 0\n",
        "    total_box_loss = 0\n",
        "    correct = 0\n",
        "    total = 0\n",
        "\n",
        "    with torch.set_grad_enabled(optimizer is not None):\n",
        "        for images, targets in dataloader:\n",
        "            try:\n",
        "                images = torch.stack(images).to(device)\n",
        "            except:\n",
        "                continue\n",
        "\n",
        "            # Assign targets to grid\n",
        "            grid_targets = assign_targets_to_grid(targets)\n",
        "\n",
        "            if optimizer:\n",
        "                optimizer.zero_grad()\n",
        "\n",
        "            # Model prediction\n",
        "            class_logits, box_logits = model(images)  # [batch, 10, 32, 32], [batch, 4, 32, 32]\n",
        "            batch_size = images.size(0)\n",
        "\n",
        "            # Flatten predictions for loss computation\n",
        "            class_logits_flat = class_logits.view(batch_size * 32 * 32, 10)\n",
        "            box_logits_flat = box_logits.view(batch_size * 32 * 32, 4)\n",
        "\n",
        "            # Prepare ground truth tensors\n",
        "            gt_classes = torch.full((batch_size * 32 * 32,), 9, dtype=torch.long, device=device)  # Default to background\n",
        "            gt_boxes = torch.zeros(batch_size * 32 * 32, 4, device=device)\n",
        "            mask = torch.zeros(batch_size * 32 * 32, dtype=torch.bool, device=device)\n",
        "\n",
        "            # Fill ground truth for cells with objects\n",
        "            for b in range(batch_size):\n",
        "                for (grid_y, grid_x), target in grid_targets[b].items():\n",
        "                    idx = b * 32 * 32 + grid_y * 32 + grid_x\n",
        "                    gt_classes[idx] = target['label']\n",
        "                    gt_boxes[idx] = target['box'].to(device)\n",
        "                    mask[idx] = 1\n",
        "\n",
        "            # Compute losses\n",
        "            class_loss = criterion_class(class_logits_flat[mask], gt_classes[mask])\n",
        "            box_loss = criterion_box(box_logits_flat[mask], gt_boxes[mask])\n",
        "\n",
        "            total_loss = class_loss + box_loss\n",
        "\n",
        "            if optimizer:\n",
        "                total_loss.backward()\n",
        "                optimizer.step()\n",
        "\n",
        "            total_class_loss += class_loss.item()\n",
        "            total_box_loss += box_loss.item()\n",
        "            correct += (class_logits_flat[mask].argmax(1) == gt_classes[mask]).sum().item()\n",
        "            total += mask.sum().item()\n",
        "\n",
        "    avg_class_loss = total_class_loss / len(dataloader)\n",
        "    avg_box_loss = total_box_loss / len(dataloader)\n",
        "    accuracy = 100 * correct / total if total > 0 else 0\n",
        "    return accuracy, avg_class_loss, avg_box_loss\n"
      ]
    },
    {
      "cell_type": "code",
      "execution_count": 72,
      "id": "696668fc-0034-4e47-98b9-f81ad6f50ca6",
      "metadata": {
        "trusted": true
      },
      "outputs": [
        {
          "name": "stdout",
          "output_type": "stream",
          "text": [
            "Epoch 1\n",
            "Accuracy: 26.7961\n",
            "Avg class loss: 2.221049\n",
            "Avg box loss: 178.020602\n",
            "\n",
            "Checkpoint saved: model_epoch_1.pth\n",
            "Epoch 2\n",
            "Accuracy: 27.8058\n",
            "Avg class loss: 2.131674\n",
            "Avg box loss: 153.529162\n",
            "\n",
            "Checkpoint saved: model_epoch_2.pth\n",
            "Epoch 3\n",
            "Accuracy: 27.1068\n",
            "Avg class loss: 2.060381\n",
            "Avg box loss: 143.170614\n",
            "\n",
            "Checkpoint saved: model_epoch_3.pth\n",
            "Epoch 4\n",
            "Accuracy: 27.0291\n",
            "Avg class loss: 1.992370\n",
            "Avg box loss: 136.505942\n",
            "\n",
            "Checkpoint saved: model_epoch_4.pth\n",
            "Epoch 5\n",
            "Accuracy: 26.7573\n",
            "Avg class loss: 1.982939\n",
            "Avg box loss: 133.963676\n",
            "\n",
            "Checkpoint saved: model_epoch_5.pth\n",
            "Epoch 6\n",
            "Accuracy: 26.0583\n",
            "Avg class loss: 1.966372\n",
            "Avg box loss: 134.143956\n",
            "\n",
            "Checkpoint saved: model_epoch_6.pth\n",
            "Epoch 7\n",
            "Accuracy: 26.7184\n",
            "Avg class loss: 1.962011\n",
            "Avg box loss: 133.008152\n",
            "\n",
            "Checkpoint saved: model_epoch_7.pth\n",
            "Epoch 8\n",
            "Accuracy: 27.3786\n",
            "Avg class loss: 1.967289\n",
            "Avg box loss: 132.829698\n",
            "\n",
            "Checkpoint saved: model_epoch_8.pth\n",
            "Epoch 9\n",
            "Accuracy: 26.7573\n",
            "Avg class loss: 1.973094\n",
            "Avg box loss: 133.243840\n",
            "\n",
            "Checkpoint saved: model_epoch_9.pth\n",
            "Epoch 10\n",
            "Accuracy: 27.8058\n",
            "Avg class loss: 1.955926\n",
            "Avg box loss: 132.117570\n",
            "\n",
            "Checkpoint saved: model_epoch_10.pth\n",
            "Epoch 11\n",
            "Accuracy: 27.6505\n",
            "Avg class loss: 1.960322\n",
            "Avg box loss: 132.661291\n",
            "\n",
            "Checkpoint saved: model_epoch_11.pth\n",
            "Epoch 12\n",
            "Accuracy: 27.3010\n",
            "Avg class loss: 1.966798\n",
            "Avg box loss: 133.223724\n",
            "\n",
            "Checkpoint saved: model_epoch_12.pth\n",
            "Total time: 0:04:10.294411\n"
          ]
        }
      ],
      "source": [
        "# Training loop\n",
        "try:\n",
        "    epochs = 12\n",
        "    for epoch in range(1, epochs + 1):\n",
        "        train_acc, train_class_loss, train_box_loss = train_eval(\n",
        "            train_dataloader, model, criterion_class, criterion_box, optimizer\n",
        "        )\n",
        "        log(f\"Epoch {epoch}\")\n",
        "        log(f\"Accuracy: {train_acc:.4f}\")\n",
        "        log(f\"Avg class loss: {train_class_loss:.6f}\")\n",
        "        log(f\"Avg box loss: {train_box_loss:.6f}\\n\")\n",
        "        torch.save(model.state_dict(), f\"model_epoch_{epoch}.pth\")\n",
        "        print(f\"Checkpoint saved: model_epoch_{epoch}.pth\")\n",
        "\n",
        "except KeyboardInterrupt:\n",
        "    log(\"\\nTraining manually stopped.\")\n",
        "\n",
        "end_time = datetime.now()\n",
        "log(f\"Total time: {end_time - start_time}\")\n",
        "log_file.close()"
      ]
    },
    {
      "cell_type": "code",
      "execution_count": null,
      "id": "6d393f8f-cd97-418d-976a-041d39681e05",
      "metadata": {
        "trusted": true
      },
      "outputs": [],
      "source": []
    }
  ],
  "metadata": {
    "kernelspec": {
      "display_name": "base",
      "language": "python",
      "name": "python3"
    },
    "language_info": {
      "codemirror_mode": {
        "name": "ipython",
        "version": 3
      },
      "file_extension": ".py",
      "mimetype": "text/x-python",
      "name": "python",
      "nbconvert_exporter": "python",
      "pygments_lexer": "ipython3",
      "version": "3.12.2"
    }
  },
  "nbformat": 4,
  "nbformat_minor": 5
}
